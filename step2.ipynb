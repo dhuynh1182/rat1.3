{
  "cells": [
    {
      "cell_type": "markdown",
      "metadata": {
        "id": "view-in-github",
        "colab_type": "text"
      },
      "source": [
        "<a href=\"https://colab.research.google.com/github/dhuynh1182/rat1.3/blob/main/step2.ipynb\" target=\"_parent\"><img src=\"https://colab.research.google.com/assets/colab-badge.svg\" alt=\"Open In Colab\"/></a>"
      ]
    },
    {
      "cell_type": "code",
      "execution_count": null,
      "metadata": {
        "id": "a4e2lwNsj-ex",
        "colab": {
          "base_uri": "https://localhost:8080/"
        },
        "outputId": "98e642ba-9d23-4611-b02c-d22a628b661d"
      },
      "outputs": [
        {
          "output_type": "stream",
          "name": "stdout",
          "text": [
            "Installing collected packages: thop, ultralytics\n",
            "Successfully installed thop-0.1.1.post2209072238 ultralytics-8.0.227\n"
          ]
        }
      ],
      "source": [
        "#work around since this is not working with normally for some reason\n",
        "import locale\n",
        "def getpreferredencoding(do_setlocale = True):\n",
        "    return \"UTF-8\"\n",
        "locale.getpreferredencoding = getpreferredencoding\n",
        "\n",
        "!pip install ultralytics"
      ]
    },
    {
      "cell_type": "markdown",
      "metadata": {
        "id": "j3ak58xbAYyy"
      },
      "source": [
        "Part 1: Masking in a sep .py file"
      ]
    },
    {
      "cell_type": "code",
      "execution_count": null,
      "metadata": {
        "colab": {
          "background_save": true
        },
        "id": "siSdoGH32ry3"
      },
      "outputs": [],
      "source": []
    },
    {
      "cell_type": "code",
      "execution_count": null,
      "metadata": {
        "id": "Iw0zoZbfBejz"
      },
      "outputs": [],
      "source": []
    },
    {
      "cell_type": "markdown",
      "metadata": {
        "id": "nQ930rQSAd7W"
      },
      "source": [
        "Part 2 YOLOv8 training"
      ]
    },
    {
      "cell_type": "code",
      "execution_count": null,
      "metadata": {
        "id": "zyEM4j3oSkx-"
      },
      "outputs": [],
      "source": [
        " #mounting drive to colab\n",
        "from google.colab import drive\n",
        "from ultralytics import YOLO\n",
        "\n",
        "drive.mount('/content/drive')\n",
        "\n",
        "path2data = \"/content/drive/MyDrive/project files/data/data.yaml\"\n",
        "model = YOLO('yolov8n.pt')\n",
        "\n",
        "results =  model.train(name = \"test\",data = path2data, epochs = 100, imgsz= 1024, batch= 2)\n"
      ]
    },
    {
      "cell_type": "markdown",
      "source": [
        "code to save and download models.\n",
        "Google colab wipes everytime runtime disconnects.\n",
        "\n",
        "To retrain the model for testing, upload the best.pt file to google colab from the model .zip (\\content\\runs\\detect\\model12\\weights)\n",
        "\n",
        "\n",
        "Part 3: model evaluation"
      ],
      "metadata": {
        "id": "CPU14HQQfPLS"
      }
    },
    {
      "cell_type": "code",
      "execution_count": null,
      "metadata": {
        "id": "5p59Fz_wY6mv"
      },
      "outputs": [],
      "source": [
        "from ultralytics import YOLO\n",
        "\n",
        "model = YOLO(\"/content/best.pt\")\n",
        "\n",
        "from google.colab.patches import cv2_imshow\n",
        "\n",
        "\n",
        "ardmega = \"/content/drive/MyDrive/project files/data/evaluation/ardmega.jpg\"\n",
        "ard = \"/content/drive/MyDrive/project files/data/evaluation/arduno.jpg\"\n",
        "rasp = \"/content/drive/MyDrive/project files/data/evaluation/rasppi.jpg\"\n",
        "\n",
        "model.predict(ardmega, save=True, imgsz=928, conf=0.1)\n",
        "model.predict(ard, save=True, imgsz=928, conf=0.1)\n",
        "model.predict(rasp, save=True, imgsz=928, conf=0.1)\n",
        "\n",
        "\n"
      ]
    },
    {
      "cell_type": "code",
      "source": [
        "#download to local computer\n",
        "import locale\n",
        "def getpreferredencoding(do_setlocale = True):\n",
        "    return \"UTF-8\"\n",
        "locale.getpreferredencoding = getpreferredencoding\n",
        "\n",
        "!zip -r /content/runs/detect/test.zip /content/runs/detect/test"
      ],
      "metadata": {
        "id": "RziiMfNskLsH"
      },
      "execution_count": null,
      "outputs": []
    }
  ],
  "metadata": {
    "accelerator": "GPU",
    "colab": {
      "provenance": [],
      "gpuType": "T4",
      "mount_file_id": "1H6sKue7B4ZkkTFb10wamtOFRzLbGhadf",
      "authorship_tag": "ABX9TyN/jHhP8ah57xyHNw9YK54Z",
      "include_colab_link": true
    },
    "kernelspec": {
      "display_name": "Python 3",
      "name": "python3"
    },
    "language_info": {
      "name": "python"
    }
  },
  "nbformat": 4,
  "nbformat_minor": 0
}