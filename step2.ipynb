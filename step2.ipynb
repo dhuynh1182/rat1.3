{
  "nbformat": 4,
  "nbformat_minor": 0,
  "metadata": {
    "colab": {
      "provenance": [],
      "toc_visible": true,
      "gpuType": "T4",
      "authorship_tag": "ABX9TyNJFEouMeELjWrbxhfD5jQQ",
      "include_colab_link": true
    },
    "kernelspec": {
      "name": "python3",
      "display_name": "Python 3"
    },
    "language_info": {
      "name": "python"
    },
    "accelerator": "GPU"
  },
  "cells": [
    {
      "cell_type": "markdown",
      "metadata": {
        "id": "view-in-github",
        "colab_type": "text"
      },
      "source": [
        "<a href=\"https://colab.research.google.com/github/dhuynh1182/rat1.3/blob/main/step2.ipynb\" target=\"_parent\"><img src=\"https://colab.research.google.com/assets/colab-badge.svg\" alt=\"Open In Colab\"/></a>"
      ]
    },
    {
      "cell_type": "markdown",
      "source": [
        "Installing ultralytics for later use"
      ],
      "metadata": {
        "id": "UmS2XyAWxMeg"
      }
    },
    {
      "cell_type": "code",
      "execution_count": 1,
      "metadata": {
        "colab": {
          "base_uri": "https://localhost:8080/"
        },
        "id": "QSc86zKKxDyf",
        "outputId": "7405e6ce-27eb-4000-f23a-ba775b1ab9ee"
      },
      "outputs": [
        {
          "output_type": "stream",
          "name": "stdout",
          "text": [
            "Installing collected packages: thop, ultralytics\n",
            "Successfully installed thop-0.1.1.post2209072238 ultralytics-8.0.227\n"
          ]
        }
      ],
      "source": [
        "#work around since this is not working with normally for some reason\n",
        "import locale\n",
        "def getpreferredencoding(do_setlocale = True):\n",
        "    return \"UTF-8\"\n",
        "locale.getpreferredencoding = getpreferredencoding\n",
        "\n",
        "!pip install ultralytics"
      ]
    },
    {
      "cell_type": "markdown",
      "source": [
        "Part 1: Masking is on a seperate .py file\n",
        "\n",
        "Part 2: YOLOv8 training"
      ],
      "metadata": {
        "id": "Nh33q7t3xRyx"
      }
    },
    {
      "cell_type": "code",
      "source": [
        " #mounting drive to colab\n",
        "from google.colab import drive\n",
        "from ultralytics import YOLO\n",
        "\n",
        "drive.mount('/content/drive')\n",
        "\n",
        "path2data = \"/content/drive/MyDrive/project files/data/data.yaml\"\n",
        "model = YOLO('yolov8n.pt')\n",
        "\n",
        "results =  model.train(name = \"model\",data = path2data, epochs = 1000, imgsz= 1024, batch= 2)"
      ],
      "metadata": {
        "id": "6dzKEL_OxS_a"
      },
      "execution_count": null,
      "outputs": []
    },
    {
      "cell_type": "markdown",
      "source": [
        "This part is to download the model locally since google colab wipes after run time disconnect."
      ],
      "metadata": {
        "id": "4ReJ74af0rOO"
      }
    },
    {
      "cell_type": "code",
      "source": [
        "\n",
        "#work around to download files, to save model to stop reruns.\n",
        "import locale\n",
        "def getpreferredencoding(do_setlocale = True):\n",
        "    return \"UTF-8\"\n",
        "locale.getpreferredencoding = getpreferredencoding\n",
        "\n",
        "!zip -r /content/runs/detect/model.zip /content/runs/detect/model\n"
      ],
      "metadata": {
        "id": "SQmuCSqJ0aTX"
      },
      "execution_count": null,
      "outputs": []
    },
    {
      "cell_type": "markdown",
      "source": [
        "Step 3: model evaluation"
      ],
      "metadata": {
        "id": "AsG4zRlp1tKR"
      }
    },
    {
      "cell_type": "code",
      "source": [
        "from google.colab import drive\n",
        "\n",
        "drive.mount('/content/drive')\n",
        "\n",
        "from ultralytics import YOLO\n",
        "\n",
        "model = YOLO(\"/content/best.pt\")\n",
        "\n",
        "from google.colab.patches import cv2_imshow\n",
        "\n",
        "\n",
        "ardmega = \"/content/drive/MyDrive/project files/data/evaluation/ardmega.jpg\"\n",
        "ard = \"/content/drive/MyDrive/project files/data/evaluation/arduno.jpg\"\n",
        "rasp = \"/content/drive/MyDrive/project files/data/evaluation/rasppi.jpg\"\n",
        "\n",
        "test = model.predict(ardmega, save=True, imgsz=928, conf=0.1)"
      ],
      "metadata": {
        "id": "xjKi1o121v6i"
      },
      "execution_count": null,
      "outputs": []
    }
  ]
}