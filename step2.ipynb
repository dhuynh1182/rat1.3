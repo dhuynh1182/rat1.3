{
  "cells": [
    {
      "cell_type": "markdown",
      "metadata": {
        "id": "view-in-github",
        "colab_type": "text"
      },
      "source": [
        "<a href=\"https://colab.research.google.com/github/dhuynh1182/rat1.3/blob/main/step2.ipynb\" target=\"_parent\"><img src=\"https://colab.research.google.com/assets/colab-badge.svg\" alt=\"Open In Colab\"/></a>"
      ]
    },
    {
      "cell_type": "code",
      "execution_count": null,
      "metadata": {
        "colab": {
          "base_uri": "https://localhost:8080/"
        },
        "id": "a4e2lwNsj-ex",
        "outputId": "daae8734-8eac-4c38-a9c6-6803150cfb2e"
      },
      "outputs": [
        {
          "output_type": "stream",
          "name": "stdout",
          "text": [
            "Requirement already satisfied: ultralytics in /usr/local/lib/python3.10/dist-packages (8.0.227)\n",
            "Requirement already satisfied: matplotlib>=3.3.0 in /usr/local/lib/python3.10/dist-packages (from ultralytics) (3.7.1)\n",
            "Requirement already satisfied: numpy>=1.22.2 in /usr/local/lib/python3.10/dist-packages (from ultralytics) (1.23.5)\n",
            "Requirement already satisfied: opencv-python>=4.6.0 in /usr/local/lib/python3.10/dist-packages (from ultralytics) (4.8.0.76)\n",
            "Requirement already satisfied: pillow>=7.1.2 in /usr/local/lib/python3.10/dist-packages (from ultralytics) (9.4.0)\n",
            "Requirement already satisfied: pyyaml>=5.3.1 in /usr/local/lib/python3.10/dist-packages (from ultralytics) (6.0.1)\n",
            "Requirement already satisfied: requests>=2.23.0 in /usr/local/lib/python3.10/dist-packages (from ultralytics) (2.31.0)\n",
            "Requirement already satisfied: scipy>=1.4.1 in /usr/local/lib/python3.10/dist-packages (from ultralytics) (1.11.4)\n",
            "Requirement already satisfied: torch>=1.8.0 in /usr/local/lib/python3.10/dist-packages (from ultralytics) (2.1.0+cu118)\n",
            "Requirement already satisfied: torchvision>=0.9.0 in /usr/local/lib/python3.10/dist-packages (from ultralytics) (0.16.0+cu118)\n",
            "Requirement already satisfied: tqdm>=4.64.0 in /usr/local/lib/python3.10/dist-packages (from ultralytics) (4.66.1)\n",
            "Requirement already satisfied: pandas>=1.1.4 in /usr/local/lib/python3.10/dist-packages (from ultralytics) (1.5.3)\n",
            "Requirement already satisfied: seaborn>=0.11.0 in /usr/local/lib/python3.10/dist-packages (from ultralytics) (0.12.2)\n",
            "Requirement already satisfied: psutil in /usr/local/lib/python3.10/dist-packages (from ultralytics) (5.9.5)\n",
            "Requirement already satisfied: py-cpuinfo in /usr/local/lib/python3.10/dist-packages (from ultralytics) (9.0.0)\n",
            "Requirement already satisfied: thop>=0.1.1 in /usr/local/lib/python3.10/dist-packages (from ultralytics) (0.1.1.post2209072238)\n",
            "Requirement already satisfied: contourpy>=1.0.1 in /usr/local/lib/python3.10/dist-packages (from matplotlib>=3.3.0->ultralytics) (1.2.0)\n",
            "Requirement already satisfied: cycler>=0.10 in /usr/local/lib/python3.10/dist-packages (from matplotlib>=3.3.0->ultralytics) (0.12.1)\n",
            "Requirement already satisfied: fonttools>=4.22.0 in /usr/local/lib/python3.10/dist-packages (from matplotlib>=3.3.0->ultralytics) (4.46.0)\n",
            "Requirement already satisfied: kiwisolver>=1.0.1 in /usr/local/lib/python3.10/dist-packages (from matplotlib>=3.3.0->ultralytics) (1.4.5)\n",
            "Requirement already satisfied: packaging>=20.0 in /usr/local/lib/python3.10/dist-packages (from matplotlib>=3.3.0->ultralytics) (23.2)\n",
            "Requirement already satisfied: pyparsing>=2.3.1 in /usr/local/lib/python3.10/dist-packages (from matplotlib>=3.3.0->ultralytics) (3.1.1)\n",
            "Requirement already satisfied: python-dateutil>=2.7 in /usr/local/lib/python3.10/dist-packages (from matplotlib>=3.3.0->ultralytics) (2.8.2)\n",
            "Requirement already satisfied: pytz>=2020.1 in /usr/local/lib/python3.10/dist-packages (from pandas>=1.1.4->ultralytics) (2023.3.post1)\n",
            "Requirement already satisfied: charset-normalizer<4,>=2 in /usr/local/lib/python3.10/dist-packages (from requests>=2.23.0->ultralytics) (3.3.2)\n",
            "Requirement already satisfied: idna<4,>=2.5 in /usr/local/lib/python3.10/dist-packages (from requests>=2.23.0->ultralytics) (3.6)\n",
            "Requirement already satisfied: urllib3<3,>=1.21.1 in /usr/local/lib/python3.10/dist-packages (from requests>=2.23.0->ultralytics) (2.0.7)\n",
            "Requirement already satisfied: certifi>=2017.4.17 in /usr/local/lib/python3.10/dist-packages (from requests>=2.23.0->ultralytics) (2023.11.17)\n",
            "Requirement already satisfied: filelock in /usr/local/lib/python3.10/dist-packages (from torch>=1.8.0->ultralytics) (3.13.1)\n",
            "Requirement already satisfied: typing-extensions in /usr/local/lib/python3.10/dist-packages (from torch>=1.8.0->ultralytics) (4.5.0)\n",
            "Requirement already satisfied: sympy in /usr/local/lib/python3.10/dist-packages (from torch>=1.8.0->ultralytics) (1.12)\n",
            "Requirement already satisfied: networkx in /usr/local/lib/python3.10/dist-packages (from torch>=1.8.0->ultralytics) (3.2.1)\n",
            "Requirement already satisfied: jinja2 in /usr/local/lib/python3.10/dist-packages (from torch>=1.8.0->ultralytics) (3.1.2)\n",
            "Requirement already satisfied: fsspec in /usr/local/lib/python3.10/dist-packages (from torch>=1.8.0->ultralytics) (2023.6.0)\n",
            "Requirement already satisfied: triton==2.1.0 in /usr/local/lib/python3.10/dist-packages (from torch>=1.8.0->ultralytics) (2.1.0)\n",
            "Requirement already satisfied: six>=1.5 in /usr/local/lib/python3.10/dist-packages (from python-dateutil>=2.7->matplotlib>=3.3.0->ultralytics) (1.16.0)\n",
            "Requirement already satisfied: MarkupSafe>=2.0 in /usr/local/lib/python3.10/dist-packages (from jinja2->torch>=1.8.0->ultralytics) (2.1.3)\n",
            "Requirement already satisfied: mpmath>=0.19 in /usr/local/lib/python3.10/dist-packages (from sympy->torch>=1.8.0->ultralytics) (1.3.0)\n"
          ]
        }
      ],
      "source": [
        "#work around since this is not working with normally for some reason\n",
        "import locale\n",
        "def getpreferredencoding(do_setlocale = True):\n",
        "    return \"UTF-8\"\n",
        "locale.getpreferredencoding = getpreferredencoding\n",
        "\n",
        "!pip install ultralytics"
      ]
    },
    {
      "cell_type": "markdown",
      "metadata": {
        "id": "j3ak58xbAYyy"
      },
      "source": [
        "Part 1: Masking"
      ]
    },
    {
      "cell_type": "code",
      "execution_count": null,
      "metadata": {
        "colab": {
          "background_save": true
        },
        "id": "siSdoGH32ry3"
      },
      "outputs": [],
      "source": [
        "# import cv2\n",
        "# import numpy as np\n",
        "# import PIL\n",
        "# import torch\n",
        "\n",
        "\n",
        "# from google.colab.patches import cv2_imshow\n",
        "\n",
        "# from matplotlib import pyplot as plt\n",
        "\n",
        "# #mounting drive to colab\n",
        "# from google.colab import drive\n",
        "# from ultralytics import YOLO\n",
        "\n",
        "\n",
        "\n",
        "# drive.mount('/content/drive')\n",
        "# path = \"/content/drive/MyDrive/motherboard_image.JPEG\"\n",
        "\n",
        "# img_real = cv2.imread(path, cv2.IMREAD_COLOR)\n",
        "# img_real = cv2.rotate(img_real, cv2.ROTATE_90_CLOCKWISE)\n",
        "\n",
        "# img = cv2.imread(path, cv2.IMREAD_COLOR)\n",
        "# img = cv2.GaussianBlur(img, (47, 47), 4)\n",
        "# img_gray = cv2.cvtColor(img, cv2.COLOR_RGB2GRAY)\n",
        "# img_gray = cv2.adaptiveThreshold(img_gray, 255, cv2.ADAPTIVE_THRESH_MEAN_C, cv2.THRESH_BINARY, 55,7)\n",
        "# img_gray = cv2.rotate(img_gray, cv2.ROTATE_90_CLOCKWISE)\n",
        "\n",
        "\n",
        "\n",
        "\n",
        "# edges = cv2.Canny(img_gray, 50, 300)\n",
        "# edges = cv2.dilate(edges,None, iterations = 10)\n",
        "\n",
        "# contours, cat = cv2.findContours(edges,cv2.RETR_EXTERNAL,cv2.CHAIN_APPROX_SIMPLE)\n",
        "\n",
        "# mask = np.zeros_like(img_real)\n",
        "\n",
        "# cv2.drawContours(image=mask, contours=[max(contours, key = cv2.contourArea)], contourIdx=-1, color=(255, 255, 255), thickness= cv2.FILLED)\n",
        "\n",
        "# masked_img = cv2.bitwise_and(mask,  img_real)\n",
        "# cv2_imshow(masked_img)\n",
        "\n",
        "\n",
        "\n",
        "\n",
        "\n",
        "\n",
        "\n"
      ]
    },
    {
      "cell_type": "code",
      "execution_count": null,
      "metadata": {
        "id": "Iw0zoZbfBejz"
      },
      "outputs": [],
      "source": []
    },
    {
      "cell_type": "markdown",
      "metadata": {
        "id": "nQ930rQSAd7W"
      },
      "source": [
        "Part 2 YOLOv8 training"
      ]
    },
    {
      "cell_type": "code",
      "execution_count": null,
      "metadata": {
        "id": "zyEM4j3oSkx-"
      },
      "outputs": [],
      "source": [
        " #mounting drive to colab\n",
        "from google.colab import drive\n",
        "from ultralytics import YOLO\n",
        "\n",
        "path2data = \"/content/drive/MyDrive/project files/data/data.yaml\"\n",
        "ardmega = \"/content/drive/MyDrive/project files/data/evaluation/ardmega.jpg\"\n",
        "ard = \"/content/drive/MyDrive/project files/data/evaluation/arduno.jpg\"\n",
        "rasp = \"/content/drive/MyDrive/project files/data/evaluation/rasppi.jpg\"\n",
        "model = YOLO('yolov8n.pt')\n",
        "\n",
        "results =  model.train(name = \"model1\",data = path2data, epochs = 50, imgsz= 900, batch= 2)\n",
        "\n",
        "\n",
        "\n"
      ]
    },
    {
      "cell_type": "code",
      "execution_count": null,
      "metadata": {
        "id": "FCa-6pB7O2oK",
        "colab": {
          "base_uri": "https://localhost:8080/"
        },
        "outputId": "ce712607-f232-453c-ec21-f52ff1432809"
      },
      "outputs": [
        {
          "output_type": "stream",
          "name": "stdout",
          "text": [
            "  adding: content/runs/detect/model12/ (stored 0%)\n",
            "  adding: content/runs/detect/model12/labels.jpg (deflated 26%)\n",
            "  adding: content/runs/detect/model12/PR_curve.png (deflated 5%)\n",
            "  adding: content/runs/detect/model12/F1_curve.png (deflated 4%)\n",
            "  adding: content/runs/detect/model12/val_batch2_pred.jpg (deflated 5%)\n",
            "  adding: content/runs/detect/model12/confusion_matrix_normalized.png (deflated 14%)\n",
            "  adding: content/runs/detect/model12/train_batch1.jpg (deflated 8%)\n",
            "  adding: content/runs/detect/model12/labels_correlogram.jpg (deflated 38%)\n",
            "  adding: content/runs/detect/model12/results.png (deflated 7%)\n",
            "  adding: content/runs/detect/model12/val_batch1_labels.jpg (deflated 7%)\n",
            "  adding: content/runs/detect/model12/val_batch0_pred.jpg (deflated 10%)\n",
            "  adding: content/runs/detect/model12/train_batch10881.jpg (deflated 29%)\n",
            "  adding: content/runs/detect/model12/args.yaml (deflated 51%)\n",
            "  adding: content/runs/detect/model12/P_curve.png (deflated 4%)\n",
            "  adding: content/runs/detect/model12/train_batch10882.jpg (deflated 19%)\n",
            "  adding: content/runs/detect/model12/train_batch2.jpg (deflated 13%)\n",
            "  adding: content/runs/detect/model12/weights/ (stored 0%)\n",
            "  adding: content/runs/detect/model12/weights/last.pt (deflated 10%)\n",
            "  adding: content/runs/detect/model12/weights/best.pt (deflated 10%)\n",
            "  adding: content/runs/detect/model12/train_batch0.jpg (deflated 30%)\n",
            "  adding: content/runs/detect/model12/R_curve.png (deflated 5%)\n",
            "  adding: content/runs/detect/model12/val_batch1_pred.jpg (deflated 6%)\n",
            "  adding: content/runs/detect/model12/results.csv (deflated 84%)\n",
            "  adding: content/runs/detect/model12/confusion_matrix.png (deflated 17%)\n",
            "  adding: content/runs/detect/model12/train_batch10880.jpg (deflated 21%)\n",
            "  adding: content/runs/detect/model12/val_batch0_labels.jpg (deflated 10%)\n",
            "  adding: content/runs/detect/model12/events.out.tfevents.1702446189.6ac5e9bd9475.637.3 (deflated 91%)\n",
            "  adding: content/runs/detect/model12/val_batch2_labels.jpg (deflated 5%)\n"
          ]
        }
      ],
      "source": [
        "\n",
        "#work around to download files\n",
        "import locale\n",
        "def getpreferredencoding(do_setlocale = True):\n",
        "    return \"UTF-8\"\n",
        "locale.getpreferredencoding = getpreferredencoding\n",
        "\n",
        "!zip -r /content/runs/detect/model12.zip /content/runs/detect/model12\n"
      ]
    },
    {
      "cell_type": "code",
      "execution_count": null,
      "metadata": {
        "id": "5p59Fz_wY6mv"
      },
      "outputs": [],
      "source": []
    }
  ],
  "metadata": {
    "accelerator": "GPU",
    "colab": {
      "provenance": [],
      "mount_file_id": "1H6sKue7B4ZkkTFb10wamtOFRzLbGhadf",
      "authorship_tag": "ABX9TyN/gCdXB/LU+H3ZZWlUNaop",
      "include_colab_link": true
    },
    "kernelspec": {
      "display_name": "Python 3",
      "name": "python3"
    },
    "language_info": {
      "name": "python"
    }
  },
  "nbformat": 4,
  "nbformat_minor": 0
}