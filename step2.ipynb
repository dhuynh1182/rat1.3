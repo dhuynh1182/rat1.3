{
  "cells": [
    {
      "cell_type": "markdown",
      "metadata": {
        "id": "view-in-github",
        "colab_type": "text"
      },
      "source": [
        "<a href=\"https://colab.research.google.com/github/dhuynh1182/rat1.3/blob/main/step2.ipynb\" target=\"_parent\"><img src=\"https://colab.research.google.com/assets/colab-badge.svg\" alt=\"Open In Colab\"/></a>"
      ]
    },
    {
      "cell_type": "code",
      "execution_count": 1,
      "metadata": {
        "id": "a4e2lwNsj-ex",
        "colab": {
          "base_uri": "https://localhost:8080/"
        },
        "outputId": "9aee297d-0019-4863-9c71-307dfe0b4c2e"
      },
      "outputs": [
        {
          "output_type": "stream",
          "name": "stdout",
          "text": [
            "Collecting ultralytics\n",
            "  Downloading ultralytics-8.0.227-py3-none-any.whl (660 kB)\n",
            "\u001b[2K     \u001b[90m━━━━━━━━━━━━━━━━━━━━━━━━━━━━━━━━━━━━━━━━\u001b[0m \u001b[32m660.5/660.5 kB\u001b[0m \u001b[31m3.2 MB/s\u001b[0m eta \u001b[36m0:00:00\u001b[0m\n",
            "\u001b[?25hRequirement already satisfied: matplotlib>=3.3.0 in /usr/local/lib/python3.10/dist-packages (from ultralytics) (3.7.1)\n",
            "Requirement already satisfied: numpy>=1.22.2 in /usr/local/lib/python3.10/dist-packages (from ultralytics) (1.23.5)\n",
            "Requirement already satisfied: opencv-python>=4.6.0 in /usr/local/lib/python3.10/dist-packages (from ultralytics) (4.8.0.76)\n",
            "Requirement already satisfied: pillow>=7.1.2 in /usr/local/lib/python3.10/dist-packages (from ultralytics) (9.4.0)\n",
            "Requirement already satisfied: pyyaml>=5.3.1 in /usr/local/lib/python3.10/dist-packages (from ultralytics) (6.0.1)\n",
            "Requirement already satisfied: requests>=2.23.0 in /usr/local/lib/python3.10/dist-packages (from ultralytics) (2.31.0)\n",
            "Requirement already satisfied: scipy>=1.4.1 in /usr/local/lib/python3.10/dist-packages (from ultralytics) (1.11.4)\n",
            "Requirement already satisfied: torch>=1.8.0 in /usr/local/lib/python3.10/dist-packages (from ultralytics) (2.1.0+cu121)\n",
            "Requirement already satisfied: torchvision>=0.9.0 in /usr/local/lib/python3.10/dist-packages (from ultralytics) (0.16.0+cu121)\n",
            "Requirement already satisfied: tqdm>=4.64.0 in /usr/local/lib/python3.10/dist-packages (from ultralytics) (4.66.1)\n",
            "Requirement already satisfied: pandas>=1.1.4 in /usr/local/lib/python3.10/dist-packages (from ultralytics) (1.5.3)\n",
            "Requirement already satisfied: seaborn>=0.11.0 in /usr/local/lib/python3.10/dist-packages (from ultralytics) (0.12.2)\n",
            "Requirement already satisfied: psutil in /usr/local/lib/python3.10/dist-packages (from ultralytics) (5.9.5)\n",
            "Requirement already satisfied: py-cpuinfo in /usr/local/lib/python3.10/dist-packages (from ultralytics) (9.0.0)\n",
            "Collecting thop>=0.1.1 (from ultralytics)\n",
            "  Downloading thop-0.1.1.post2209072238-py3-none-any.whl (15 kB)\n",
            "Requirement already satisfied: contourpy>=1.0.1 in /usr/local/lib/python3.10/dist-packages (from matplotlib>=3.3.0->ultralytics) (1.2.0)\n",
            "Requirement already satisfied: cycler>=0.10 in /usr/local/lib/python3.10/dist-packages (from matplotlib>=3.3.0->ultralytics) (0.12.1)\n",
            "Requirement already satisfied: fonttools>=4.22.0 in /usr/local/lib/python3.10/dist-packages (from matplotlib>=3.3.0->ultralytics) (4.46.0)\n",
            "Requirement already satisfied: kiwisolver>=1.0.1 in /usr/local/lib/python3.10/dist-packages (from matplotlib>=3.3.0->ultralytics) (1.4.5)\n",
            "Requirement already satisfied: packaging>=20.0 in /usr/local/lib/python3.10/dist-packages (from matplotlib>=3.3.0->ultralytics) (23.2)\n",
            "Requirement already satisfied: pyparsing>=2.3.1 in /usr/local/lib/python3.10/dist-packages (from matplotlib>=3.3.0->ultralytics) (3.1.1)\n",
            "Requirement already satisfied: python-dateutil>=2.7 in /usr/local/lib/python3.10/dist-packages (from matplotlib>=3.3.0->ultralytics) (2.8.2)\n",
            "Requirement already satisfied: pytz>=2020.1 in /usr/local/lib/python3.10/dist-packages (from pandas>=1.1.4->ultralytics) (2023.3.post1)\n",
            "Requirement already satisfied: charset-normalizer<4,>=2 in /usr/local/lib/python3.10/dist-packages (from requests>=2.23.0->ultralytics) (3.3.2)\n",
            "Requirement already satisfied: idna<4,>=2.5 in /usr/local/lib/python3.10/dist-packages (from requests>=2.23.0->ultralytics) (3.6)\n",
            "Requirement already satisfied: urllib3<3,>=1.21.1 in /usr/local/lib/python3.10/dist-packages (from requests>=2.23.0->ultralytics) (2.0.7)\n",
            "Requirement already satisfied: certifi>=2017.4.17 in /usr/local/lib/python3.10/dist-packages (from requests>=2.23.0->ultralytics) (2023.11.17)\n",
            "Requirement already satisfied: filelock in /usr/local/lib/python3.10/dist-packages (from torch>=1.8.0->ultralytics) (3.13.1)\n",
            "Requirement already satisfied: typing-extensions in /usr/local/lib/python3.10/dist-packages (from torch>=1.8.0->ultralytics) (4.5.0)\n",
            "Requirement already satisfied: sympy in /usr/local/lib/python3.10/dist-packages (from torch>=1.8.0->ultralytics) (1.12)\n",
            "Requirement already satisfied: networkx in /usr/local/lib/python3.10/dist-packages (from torch>=1.8.0->ultralytics) (3.2.1)\n",
            "Requirement already satisfied: jinja2 in /usr/local/lib/python3.10/dist-packages (from torch>=1.8.0->ultralytics) (3.1.2)\n",
            "Requirement already satisfied: fsspec in /usr/local/lib/python3.10/dist-packages (from torch>=1.8.0->ultralytics) (2023.6.0)\n",
            "Requirement already satisfied: triton==2.1.0 in /usr/local/lib/python3.10/dist-packages (from torch>=1.8.0->ultralytics) (2.1.0)\n",
            "Requirement already satisfied: six>=1.5 in /usr/local/lib/python3.10/dist-packages (from python-dateutil>=2.7->matplotlib>=3.3.0->ultralytics) (1.16.0)\n",
            "Requirement already satisfied: MarkupSafe>=2.0 in /usr/local/lib/python3.10/dist-packages (from jinja2->torch>=1.8.0->ultralytics) (2.1.3)\n",
            "Requirement already satisfied: mpmath>=0.19 in /usr/local/lib/python3.10/dist-packages (from sympy->torch>=1.8.0->ultralytics) (1.3.0)\n",
            "Installing collected packages: thop, ultralytics\n",
            "Successfully installed thop-0.1.1.post2209072238 ultralytics-8.0.227\n"
          ]
        }
      ],
      "source": [
        "#work around since this is not working with normally for some reason\n",
        "import locale\n",
        "def getpreferredencoding(do_setlocale = True):\n",
        "    return \"UTF-8\"\n",
        "locale.getpreferredencoding = getpreferredencoding\n",
        "\n",
        "!pip install ultralytics"
      ]
    },
    {
      "cell_type": "markdown",
      "metadata": {
        "id": "nQ930rQSAd7W"
      },
      "source": [
        "Part 2 YOLOv8 training"
      ]
    },
    {
      "cell_type": "code",
      "execution_count": null,
      "metadata": {
        "id": "zyEM4j3oSkx-"
      },
      "outputs": [],
      "source": [
        " #mounting drive to colab\n",
        "from google.colab import drive\n",
        "from ultralytics import YOLO\n",
        "\n",
        "drive.mount('/content/drive')\n",
        "\n",
        "path2data = \"/content/drive/MyDrive/project files/data/data.yaml\"\n",
        "model = YOLO('yolov8n.pt')\n",
        "\n",
        "results =  model.train(name = \"test\",data = path2data, epochs = 100, imgsz= 1024, batch= 2)\n",
        "\n",
        "\n",
        "\n"
      ]
    },
    {
      "cell_type": "markdown",
      "source": [
        "\n",
        "Part 3: model evaluation"
      ],
      "metadata": {
        "id": "CPU14HQQfPLS"
      }
    },
    {
      "cell_type": "code",
      "execution_count": 3,
      "metadata": {
        "id": "5p59Fz_wY6mv",
        "colab": {
          "base_uri": "https://localhost:8080/"
        },
        "outputId": "abe8886c-c464-462e-9bd6-0ed7c0c84ed0"
      },
      "outputs": [
        {
          "output_type": "stream",
          "name": "stdout",
          "text": [
            "Drive already mounted at /content/drive; to attempt to forcibly remount, call drive.mount(\"/content/drive\", force_remount=True).\n",
            "\n",
            "WARNING ⚠️ NMS time limit 0.550s exceeded\n",
            "image 1/1 /content/drive/MyDrive/project files/data/evaluation/ardmega.jpg: 832x928 1 Button, 9 Capacitors, 11 Connectors, 1 Electrolytic Capacitor, 6 ICs, 16 Resistors, 57.6ms\n",
            "Speed: 20.1ms preprocess, 57.6ms inference, 1089.1ms postprocess per image at shape (1, 3, 832, 928)\n",
            "Results saved to \u001b[1mruns/detect/predict\u001b[0m\n",
            "\n",
            "image 1/1 /content/drive/MyDrive/project files/data/evaluation/arduno.jpg: 640x928 1 Button, 10 Capacitors, 10 Connectors, 2 Electrolytic Capacitors, 6 ICs, 2 Leds, 10 Resistors, 133.5ms\n",
            "Speed: 8.2ms preprocess, 133.5ms inference, 2.5ms postprocess per image at shape (1, 3, 640, 928)\n",
            "Results saved to \u001b[1mruns/detect/predict\u001b[0m\n",
            "\n",
            "image 1/1 /content/drive/MyDrive/project files/data/evaluation/rasppi.jpg: 640x928 10 Capacitors, 10 Connectors, 1 Electrolytic Capacitor, 8 ICs, 2 Padss, 5 Resistors, 9.0ms\n",
            "Speed: 7.0ms preprocess, 9.0ms inference, 2.1ms postprocess per image at shape (1, 3, 640, 928)\n",
            "Results saved to \u001b[1mruns/detect/predict\u001b[0m\n"
          ]
        },
        {
          "output_type": "execute_result",
          "data": {
            "text/plain": [
              "[ultralytics.engine.results.Results object with attributes:\n",
              " \n",
              " boxes: ultralytics.engine.results.Boxes object\n",
              " keypoints: None\n",
              " masks: None\n",
              " names: {0: 'Button', 1: 'Capacitor', 2: 'Connector', 3: 'Diode', 4: 'Electrolytic Capacitor', 5: 'IC', 6: 'Inductor', 7: 'Led', 8: 'Pads', 9: 'Pins', 10: 'Resistor', 11: 'Switch', 12: 'Transistor'}\n",
              " orig_img: array([[[154, 174, 191],\n",
              "         [164, 182, 199],\n",
              "         [165, 181, 198],\n",
              "         ...,\n",
              "         [139, 163, 183],\n",
              "         [132, 155, 177],\n",
              "         [129, 152, 174]],\n",
              " \n",
              "        [[154, 174, 191],\n",
              "         [159, 177, 194],\n",
              "         [164, 180, 197],\n",
              "         ...,\n",
              "         [135, 159, 179],\n",
              "         [130, 153, 175],\n",
              "         [128, 151, 173]],\n",
              " \n",
              "        [[151, 171, 189],\n",
              "         [155, 175, 193],\n",
              "         [152, 169, 188],\n",
              "         ...,\n",
              "         [127, 151, 173],\n",
              "         [124, 148, 170],\n",
              "         [123, 147, 169]],\n",
              " \n",
              "        ...,\n",
              " \n",
              "        [[138, 153, 172],\n",
              "         [145, 160, 179],\n",
              "         [138, 152, 174],\n",
              "         ...,\n",
              "         [126, 146, 164],\n",
              "         [108, 129, 150],\n",
              "         [111, 132, 153]],\n",
              " \n",
              "        [[138, 155, 174],\n",
              "         [153, 170, 189],\n",
              "         [144, 161, 180],\n",
              "         ...,\n",
              "         [135, 155, 173],\n",
              "         [117, 138, 159],\n",
              "         [111, 132, 153]],\n",
              " \n",
              "        [[140, 157, 176],\n",
              "         [152, 169, 188],\n",
              "         [147, 164, 183],\n",
              "         ...,\n",
              "         [132, 152, 170],\n",
              "         [106, 127, 148],\n",
              "         [118, 139, 160]]], dtype=uint8)\n",
              " orig_shape: (2000, 3008)\n",
              " path: '/content/drive/MyDrive/project files/data/evaluation/rasppi.jpg'\n",
              " probs: None\n",
              " save_dir: 'runs/detect/predict'\n",
              " speed: {'preprocess': 6.997108459472656, 'inference': 9.00578498840332, 'postprocess': 2.0661354064941406}]"
            ]
          },
          "metadata": {},
          "execution_count": 3
        }
      ],
      "source": [
        "\n",
        " #mounting drive to colab\n",
        "from google.colab import drive\n",
        "from ultralytics import YOLO\n",
        "\n",
        "drive.mount('/content/drive')\n",
        "\n",
        "model = YOLO(\"/content/best.pt\")\n",
        "\n",
        "from google.colab.patches import cv2_imshow\n",
        "\n",
        "\n",
        "ardumega = \"/content/drive/MyDrive/project files/data/evaluation/ardmega.jpg\"\n",
        "ardu = \"/content/drive/MyDrive/project files/data/evaluation/arduno.jpg\"\n",
        "raspi = \"/content/drive/MyDrive/project files/data/evaluation/rasppi.jpg\"\n",
        "\n",
        "model.predict(ardumega, save=True, imgsz=928, conf=0.35)\n",
        "model.predict(ardu, save=True, imgsz=928, conf=0.35)\n",
        "model.predict(raspi, save=True, imgsz=928, conf=0.35)\n",
        "\n",
        "\n"
      ]
    },
    {
      "cell_type": "code",
      "source": [
        "#download to local computer\n",
        "import locale\n",
        "import shutil\n",
        "def getpreferredencoding(do_setlocale = True):\n",
        "    return \"UTF-8\"\n",
        "locale.getpreferredencoding = getpreferredencoding\n",
        "\n",
        "!zip -r /content/runs/detect/test.zip /content/runs/detect/test\n",
        "\n",
        "#dumps file into google drive  to dodge runtime disconnect\n",
        "\n",
        "shutil.copy(\"/content/runs/detect/test.zip\",\"/content/drive/MyDrive\")"
      ],
      "metadata": {
        "id": "RziiMfNskLsH"
      },
      "execution_count": null,
      "outputs": []
    }
  ],
  "metadata": {
    "accelerator": "GPU",
    "colab": {
      "provenance": [],
      "gpuType": "T4",
      "mount_file_id": "1H6sKue7B4ZkkTFb10wamtOFRzLbGhadf",
      "authorship_tag": "ABX9TyNfAwteWVlqYCQIBut+F83l",
      "include_colab_link": true
    },
    "kernelspec": {
      "display_name": "Python 3",
      "name": "python3"
    },
    "language_info": {
      "name": "python"
    }
  },
  "nbformat": 4,
  "nbformat_minor": 0
}